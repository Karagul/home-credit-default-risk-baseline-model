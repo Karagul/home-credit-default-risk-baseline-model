{
  "cells": [
    {
      "metadata": {
        "_uuid": "e07ae49b7b608973effefda00d43ea18e1c15665"
      },
      "cell_type": "markdown",
      "source": "<h1><center><font size=\"6\">Home Credit Default Risk baseline model</font></center></h1>\n> ****\n\nMany people struggle to get loans due to insufficient or non-existent credit histories. And, unfortunately, this population is often taken advantage of by untrustworthy lenders.\n\nHome Credit Group\n\nHome Credit strives to broaden financial inclusion for the unbanked population by providing a positive and safe borrowing experience. In order to make sure this underserved population has a positive loan experience, Home Credit makes use of a variety of alternative data--including telco and transactional information--to predict their clients' repayment abilities.\n\nWhile Home Credit is currently using various statistical and machine learning methods to make these predictions, they're challenging Kagglers to help them unlock the full potential of their data. Doing so will ensure that clients capable of repayment are not rejected and that loans are given with a principal, maturity, and repayment calendar that will empower their clients to be successful."
    },
    {
      "metadata": {
        "_uuid": "3ccf260604e3438dd21acc0379bafc1162c8839c"
      },
      "cell_type": "markdown",
      "source": "The point of this kernel is to show that you can sometimes get an acceptable baseline model without digging deep into the data. I am in no way encouraging this way of doing data science, because it is not half as much fun :)\nI am so impressed by the calibre of people in this community. I just wanted to share something quick and easy. If you like this kernel, please upvote. If you dont like it, then definetely comment, that way I like so many of you can be a better DS tomorrow, than I am today. Cheers to us."
    },
    {
      "metadata": {
        "_uuid": "7e7899454fc145f2e6c2fe376838f22eed7d5a5e"
      },
      "cell_type": "markdown",
      "source": "<img src=\"https://storage.googleapis.com/kaggle-media/competitions/home-credit/about-us-home-credit.jpg\"></img>"
    },
    {
      "metadata": {
        "_uuid": "8f2839f25d086af736a60e9eeb907d3b93b6e0e5",
        "_cell_guid": "b1076dfc-b9ad-4769-8c92-a6c4dae69d19",
        "trusted": true
      },
      "cell_type": "code",
      "source": "# This Python 3 environment comes with many helpful analytics libraries installed\n# It is defined by the kaggle/python docker image: https://github.com/kaggle/docker-python\n# For example, here's several helpful packages to load in \n\nimport numpy as np # linear algebra\nimport pandas as pd # data processing, CSV file I/O (e.g. pd.read_csv)\n\n# Input data files are available in the \"../input/\" directory.\n# For example, running this (by clicking run or pressing Shift+Enter) will list the files in the input directory\n\n# Because we only care about errors\nimport warnings\nwarnings.filterwarnings('ignore')\n\n# Because thats where they keep the files\nimport os\nprint(os.listdir(\"../input\"))\n\n# Any results you write to the current directory are saved as output.\n#machine learning libraries\nimport matplotlib.pyplot as plt\nfrom sklearn.metrics import accuracy_score, average_precision_score, f1_score, recall_score, roc_auc_score\nfrom sklearn.model_selection import train_test_split, cross_val_score\nfrom sklearn.linear_model import LogisticRegression\nfrom sklearn.preprocessing import scale\nfrom imblearn.over_sampling import SMOTE\nfrom sklearn.model_selection import train_test_split\nseed = 42",
      "execution_count": 2,
      "outputs": [
        {
          "output_type": "stream",
          "text": "['POS_CASH_balance.csv', 'bureau_balance.csv', 'application_train.csv', 'previous_application.csv', 'installments_payments.csv', 'credit_card_balance.csv', 'sample_submission.csv', 'application_test.csv', 'bureau.csv']\n",
          "name": "stdout"
        }
      ]
    },
    {
      "metadata": {
        "trusted": true,
        "_uuid": "42546620f2afd0d9648415d4e6b01ceb8bb373aa"
      },
      "cell_type": "code",
      "source": "# Load everything because we are crazy like that\nprevious_application = pd.read_csv('../input/previous_application.csv', sep=',')\nPOS_CASH_balance = pd.read_csv('../input/POS_CASH_balance.csv', sep=',')\ninstallments_payments = pd.read_csv('../input/installments_payments.csv', sep=',')\ncredit_card_balance = pd.read_csv('../input/credit_card_balance.csv', sep=',')\nbureau_balance = pd.read_csv('../input/bureau_balance.csv', sep=',')\nbureau = pd.read_csv('../input/bureau.csv', sep=',')\napplication_train = pd.read_csv('../input/application_train.csv', sep=',')\napplication_test = pd.read_csv('../input/application_test.csv', sep=',')",
      "execution_count": 3,
      "outputs": []
    },
    {
      "metadata": {
        "trusted": true,
        "_uuid": "a908e2dac64e139e49bd0c022812e0b3395175a0"
      },
      "cell_type": "code",
      "source": "#Nothing fancy just grouping by the primary key\nbureau_balance_dumm = bureau_balance.groupby(['SK_ID_BUREAU']).sum()\nbureau_balance_dumm = bureau_balance_dumm.reset_index('SK_ID_BUREAU')\nbureau_balance_dumm.head()",
      "execution_count": 4,
      "outputs": [
        {
          "output_type": "execute_result",
          "execution_count": 4,
          "data": {
            "text/plain": "   SK_ID_BUREAU  MONTHS_BALANCE\n0       5001709           -4656\n1       5001710           -3403\n2       5001711              -6\n3       5001712            -171\n4       5001713            -231",
            "text/html": "<div>\n<style scoped>\n    .dataframe tbody tr th:only-of-type {\n        vertical-align: middle;\n    }\n\n    .dataframe tbody tr th {\n        vertical-align: top;\n    }\n\n    .dataframe thead th {\n        text-align: right;\n    }\n</style>\n<table border=\"1\" class=\"dataframe\">\n  <thead>\n    <tr style=\"text-align: right;\">\n      <th></th>\n      <th>SK_ID_BUREAU</th>\n      <th>MONTHS_BALANCE</th>\n    </tr>\n  </thead>\n  <tbody>\n    <tr>\n      <th>0</th>\n      <td>5001709</td>\n      <td>-4656</td>\n    </tr>\n    <tr>\n      <th>1</th>\n      <td>5001710</td>\n      <td>-3403</td>\n    </tr>\n    <tr>\n      <th>2</th>\n      <td>5001711</td>\n      <td>-6</td>\n    </tr>\n    <tr>\n      <th>3</th>\n      <td>5001712</td>\n      <td>-171</td>\n    </tr>\n    <tr>\n      <th>4</th>\n      <td>5001713</td>\n      <td>-231</td>\n    </tr>\n  </tbody>\n</table>\n</div>"
          },
          "metadata": {}
        }
      ]
    },
    {
      "metadata": {
        "_uuid": "25a04ae741755ab24206404a0bcba13c4be5f367"
      },
      "cell_type": "markdown",
      "source": "Drop primary key and get ready for joins post grouping by 'SK_ID_CURR'"
    },
    {
      "metadata": {
        "trusted": true,
        "_uuid": "e06f9fa8488f81efa186d9ad735dd69697601b35"
      },
      "cell_type": "code",
      "source": "\nbureau_merge = pd.merge(bureau, bureau_balance_dumm,  how='left')\nbureau_merge_dumm = bureau_merge.drop(['SK_ID_BUREAU'],axis = 1)\nbureau_merge_dumm = bureau_merge_dumm.groupby(['SK_ID_CURR']).sum()\nbureau_merge_dumm = bureau_merge_dumm.reset_index('SK_ID_CURR')\nbureau_merge_dumm.head()",
      "execution_count": 5,
      "outputs": [
        {
          "output_type": "execute_result",
          "execution_count": 5,
          "data": {
            "text/plain": "   SK_ID_CURR  DAYS_CREDIT       ...        AMT_ANNUITY  MONTHS_BALANCE\n0      100001        -5145       ...            24817.5         -2800.0\n1      100002        -6992       ...                0.0         -2701.0\n2      100003        -5603       ...                0.0             0.0\n3      100004        -1734       ...                0.0             0.0\n4      100005         -572       ...             4261.5           -91.0\n\n[5 rows x 14 columns]",
            "text/html": "<div>\n<style scoped>\n    .dataframe tbody tr th:only-of-type {\n        vertical-align: middle;\n    }\n\n    .dataframe tbody tr th {\n        vertical-align: top;\n    }\n\n    .dataframe thead th {\n        text-align: right;\n    }\n</style>\n<table border=\"1\" class=\"dataframe\">\n  <thead>\n    <tr style=\"text-align: right;\">\n      <th></th>\n      <th>SK_ID_CURR</th>\n      <th>DAYS_CREDIT</th>\n      <th>CREDIT_DAY_OVERDUE</th>\n      <th>DAYS_CREDIT_ENDDATE</th>\n      <th>DAYS_ENDDATE_FACT</th>\n      <th>AMT_CREDIT_MAX_OVERDUE</th>\n      <th>CNT_CREDIT_PROLONG</th>\n      <th>AMT_CREDIT_SUM</th>\n      <th>AMT_CREDIT_SUM_DEBT</th>\n      <th>AMT_CREDIT_SUM_LIMIT</th>\n      <th>AMT_CREDIT_SUM_OVERDUE</th>\n      <th>DAYS_CREDIT_UPDATE</th>\n      <th>AMT_ANNUITY</th>\n      <th>MONTHS_BALANCE</th>\n    </tr>\n  </thead>\n  <tbody>\n    <tr>\n      <th>0</th>\n      <td>100001</td>\n      <td>-5145</td>\n      <td>0</td>\n      <td>577.0</td>\n      <td>-3302.0</td>\n      <td>0.000</td>\n      <td>0</td>\n      <td>1453365.000</td>\n      <td>596686.5</td>\n      <td>0.000</td>\n      <td>0.0</td>\n      <td>-652</td>\n      <td>24817.5</td>\n      <td>-2800.0</td>\n    </tr>\n    <tr>\n      <th>1</th>\n      <td>100002</td>\n      <td>-6992</td>\n      <td>0</td>\n      <td>-2094.0</td>\n      <td>-4185.0</td>\n      <td>8405.145</td>\n      <td>0</td>\n      <td>865055.565</td>\n      <td>245781.0</td>\n      <td>31988.565</td>\n      <td>0.0</td>\n      <td>-3999</td>\n      <td>0.0</td>\n      <td>-2701.0</td>\n    </tr>\n    <tr>\n      <th>2</th>\n      <td>100003</td>\n      <td>-5603</td>\n      <td>0</td>\n      <td>-2178.0</td>\n      <td>-3292.0</td>\n      <td>0.000</td>\n      <td>0</td>\n      <td>1017400.500</td>\n      <td>0.0</td>\n      <td>810000.000</td>\n      <td>0.0</td>\n      <td>-3264</td>\n      <td>0.0</td>\n      <td>0.0</td>\n    </tr>\n    <tr>\n      <th>3</th>\n      <td>100004</td>\n      <td>-1734</td>\n      <td>0</td>\n      <td>-977.0</td>\n      <td>-1065.0</td>\n      <td>0.000</td>\n      <td>0</td>\n      <td>189037.800</td>\n      <td>0.0</td>\n      <td>0.000</td>\n      <td>0.0</td>\n      <td>-1064</td>\n      <td>0.0</td>\n      <td>0.0</td>\n    </tr>\n    <tr>\n      <th>4</th>\n      <td>100005</td>\n      <td>-572</td>\n      <td>0</td>\n      <td>1318.0</td>\n      <td>-123.0</td>\n      <td>0.000</td>\n      <td>0</td>\n      <td>657126.000</td>\n      <td>568408.5</td>\n      <td>0.000</td>\n      <td>0.0</td>\n      <td>-163</td>\n      <td>4261.5</td>\n      <td>-91.0</td>\n    </tr>\n  </tbody>\n</table>\n</div>"
          },
          "metadata": {}
        }
      ]
    },
    {
      "metadata": {
        "trusted": true,
        "_uuid": "384f36622660373c5d15ed346151343d8a4a88a0"
      },
      "cell_type": "code",
      "source": "POS_CASH_balance_loc = POS_CASH_balance.drop(['SK_ID_PREV'],axis = 1)\nPOS_CASH_balance_dumm = POS_CASH_balance_loc.groupby(['SK_ID_CURR']).sum()\nPOS_CASH_balance_dumm = POS_CASH_balance_dumm.reset_index('SK_ID_CURR')\nPOS_CASH_balance_dumm.head()",
      "execution_count": 6,
      "outputs": [
        {
          "output_type": "execute_result",
          "execution_count": 6,
          "data": {
            "text/plain": "   SK_ID_CURR  MONTHS_BALANCE     ...      SK_DPD  SK_DPD_DEF\n0      100001            -653     ...           7           7\n1      100002            -190     ...           0           0\n2      100003           -1226     ...           0           0\n3      100004            -102     ...           0           0\n4      100005            -220     ...           0           0\n\n[5 rows x 6 columns]",
            "text/html": "<div>\n<style scoped>\n    .dataframe tbody tr th:only-of-type {\n        vertical-align: middle;\n    }\n\n    .dataframe tbody tr th {\n        vertical-align: top;\n    }\n\n    .dataframe thead th {\n        text-align: right;\n    }\n</style>\n<table border=\"1\" class=\"dataframe\">\n  <thead>\n    <tr style=\"text-align: right;\">\n      <th></th>\n      <th>SK_ID_CURR</th>\n      <th>MONTHS_BALANCE</th>\n      <th>CNT_INSTALMENT</th>\n      <th>CNT_INSTALMENT_FUTURE</th>\n      <th>SK_DPD</th>\n      <th>SK_DPD_DEF</th>\n    </tr>\n  </thead>\n  <tbody>\n    <tr>\n      <th>0</th>\n      <td>100001</td>\n      <td>-653</td>\n      <td>36.0</td>\n      <td>13.0</td>\n      <td>7</td>\n      <td>7</td>\n    </tr>\n    <tr>\n      <th>1</th>\n      <td>100002</td>\n      <td>-190</td>\n      <td>456.0</td>\n      <td>285.0</td>\n      <td>0</td>\n      <td>0</td>\n    </tr>\n    <tr>\n      <th>2</th>\n      <td>100003</td>\n      <td>-1226</td>\n      <td>283.0</td>\n      <td>162.0</td>\n      <td>0</td>\n      <td>0</td>\n    </tr>\n    <tr>\n      <th>3</th>\n      <td>100004</td>\n      <td>-102</td>\n      <td>15.0</td>\n      <td>9.0</td>\n      <td>0</td>\n      <td>0</td>\n    </tr>\n    <tr>\n      <th>4</th>\n      <td>100005</td>\n      <td>-220</td>\n      <td>117.0</td>\n      <td>72.0</td>\n      <td>0</td>\n      <td>0</td>\n    </tr>\n  </tbody>\n</table>\n</div>"
          },
          "metadata": {}
        }
      ]
    },
    {
      "metadata": {
        "trusted": true,
        "_uuid": "05e48c58a065d6160007ecb01de3b71d5fc17d64"
      },
      "cell_type": "code",
      "source": "previous_application_loc = previous_application.drop(['SK_ID_PREV'],axis = 1)\nprevious_application_dumm = previous_application_loc.groupby(['SK_ID_CURR']).sum()\nprevious_application_dumm = previous_application_dumm.reset_index('SK_ID_CURR')\nprevious_application_dumm.head()",
      "execution_count": 7,
      "outputs": [
        {
          "output_type": "execute_result",
          "execution_count": 7,
          "data": {
            "text/plain": "   SK_ID_CURR            ...              NFLAG_INSURED_ON_APPROVAL\n0      100001            ...                                    0.0\n1      100002            ...                                    0.0\n2      100003            ...                                    2.0\n3      100004            ...                                    0.0\n4      100005            ...                                    0.0\n\n[5 rows x 20 columns]",
            "text/html": "<div>\n<style scoped>\n    .dataframe tbody tr th:only-of-type {\n        vertical-align: middle;\n    }\n\n    .dataframe tbody tr th {\n        vertical-align: top;\n    }\n\n    .dataframe thead th {\n        text-align: right;\n    }\n</style>\n<table border=\"1\" class=\"dataframe\">\n  <thead>\n    <tr style=\"text-align: right;\">\n      <th></th>\n      <th>SK_ID_CURR</th>\n      <th>AMT_ANNUITY</th>\n      <th>AMT_APPLICATION</th>\n      <th>AMT_CREDIT</th>\n      <th>AMT_DOWN_PAYMENT</th>\n      <th>AMT_GOODS_PRICE</th>\n      <th>HOUR_APPR_PROCESS_START</th>\n      <th>NFLAG_LAST_APPL_IN_DAY</th>\n      <th>RATE_DOWN_PAYMENT</th>\n      <th>RATE_INTEREST_PRIMARY</th>\n      <th>RATE_INTEREST_PRIVILEGED</th>\n      <th>DAYS_DECISION</th>\n      <th>SELLERPLACE_AREA</th>\n      <th>CNT_PAYMENT</th>\n      <th>DAYS_FIRST_DRAWING</th>\n      <th>DAYS_FIRST_DUE</th>\n      <th>DAYS_LAST_DUE_1ST_VERSION</th>\n      <th>DAYS_LAST_DUE</th>\n      <th>DAYS_TERMINATION</th>\n      <th>NFLAG_INSURED_ON_APPROVAL</th>\n    </tr>\n  </thead>\n  <tbody>\n    <tr>\n      <th>0</th>\n      <td>100001</td>\n      <td>3951.000</td>\n      <td>24835.5</td>\n      <td>23787.0</td>\n      <td>2520.0</td>\n      <td>24835.5</td>\n      <td>13</td>\n      <td>1</td>\n      <td>0.104326</td>\n      <td>0.0</td>\n      <td>0.0</td>\n      <td>-1740</td>\n      <td>23</td>\n      <td>8.0</td>\n      <td>365243.0</td>\n      <td>-1709.0</td>\n      <td>-1499.0</td>\n      <td>-1619.0</td>\n      <td>-1612.0</td>\n      <td>0.0</td>\n    </tr>\n    <tr>\n      <th>1</th>\n      <td>100002</td>\n      <td>9251.775</td>\n      <td>179055.0</td>\n      <td>179055.0</td>\n      <td>0.0</td>\n      <td>179055.0</td>\n      <td>9</td>\n      <td>1</td>\n      <td>0.000000</td>\n      <td>0.0</td>\n      <td>0.0</td>\n      <td>-606</td>\n      <td>500</td>\n      <td>24.0</td>\n      <td>365243.0</td>\n      <td>-565.0</td>\n      <td>125.0</td>\n      <td>-25.0</td>\n      <td>-17.0</td>\n      <td>0.0</td>\n    </tr>\n    <tr>\n      <th>2</th>\n      <td>100003</td>\n      <td>169661.970</td>\n      <td>1306309.5</td>\n      <td>1452573.0</td>\n      <td>6885.0</td>\n      <td>1306309.5</td>\n      <td>44</td>\n      <td>3</td>\n      <td>0.100061</td>\n      <td>0.0</td>\n      <td>0.0</td>\n      <td>-3915</td>\n      <td>1599</td>\n      <td>30.0</td>\n      <td>1095729.0</td>\n      <td>-3823.0</td>\n      <td>-3013.0</td>\n      <td>-3163.0</td>\n      <td>-3142.0</td>\n      <td>2.0</td>\n    </tr>\n    <tr>\n      <th>3</th>\n      <td>100004</td>\n      <td>5357.250</td>\n      <td>24282.0</td>\n      <td>20106.0</td>\n      <td>4860.0</td>\n      <td>24282.0</td>\n      <td>5</td>\n      <td>1</td>\n      <td>0.212008</td>\n      <td>0.0</td>\n      <td>0.0</td>\n      <td>-815</td>\n      <td>30</td>\n      <td>4.0</td>\n      <td>365243.0</td>\n      <td>-784.0</td>\n      <td>-694.0</td>\n      <td>-724.0</td>\n      <td>-714.0</td>\n      <td>0.0</td>\n    </tr>\n    <tr>\n      <th>4</th>\n      <td>100005</td>\n      <td>4813.200</td>\n      <td>44617.5</td>\n      <td>40153.5</td>\n      <td>4464.0</td>\n      <td>44617.5</td>\n      <td>21</td>\n      <td>2</td>\n      <td>0.108964</td>\n      <td>0.0</td>\n      <td>0.0</td>\n      <td>-1072</td>\n      <td>36</td>\n      <td>12.0</td>\n      <td>365243.0</td>\n      <td>-706.0</td>\n      <td>-376.0</td>\n      <td>-466.0</td>\n      <td>-460.0</td>\n      <td>0.0</td>\n    </tr>\n  </tbody>\n</table>\n</div>"
          },
          "metadata": {}
        }
      ]
    },
    {
      "metadata": {
        "trusted": true,
        "_uuid": "5dac939dd7bcbcd00ec291300bcf805e7c097537"
      },
      "cell_type": "code",
      "source": "installments_payments_loc = installments_payments.drop(['SK_ID_PREV'],axis = 1)\ninstallments_payments_dumm = installments_payments_loc.groupby(['SK_ID_CURR']).sum()\ninstallments_payments_dumm = installments_payments_dumm.reset_index('SK_ID_CURR')\ninstallments_payments_dumm.head()",
      "execution_count": 8,
      "outputs": [
        {
          "output_type": "execute_result",
          "execution_count": 8,
          "data": {
            "text/plain": "   SK_ID_CURR  NUM_INSTALMENT_VERSION     ...       AMT_INSTALMENT  AMT_PAYMENT\n0      100001                     8.0     ...            41195.925    41195.925\n1      100002                    20.0     ...           219625.695   219625.695\n2      100003                    26.0     ...          1618864.650  1618864.650\n3      100004                     4.0     ...            21288.465    21288.465\n4      100005                    10.0     ...            56161.845    56161.845\n\n[5 rows x 7 columns]",
            "text/html": "<div>\n<style scoped>\n    .dataframe tbody tr th:only-of-type {\n        vertical-align: middle;\n    }\n\n    .dataframe tbody tr th {\n        vertical-align: top;\n    }\n\n    .dataframe thead th {\n        text-align: right;\n    }\n</style>\n<table border=\"1\" class=\"dataframe\">\n  <thead>\n    <tr style=\"text-align: right;\">\n      <th></th>\n      <th>SK_ID_CURR</th>\n      <th>NUM_INSTALMENT_VERSION</th>\n      <th>NUM_INSTALMENT_NUMBER</th>\n      <th>DAYS_INSTALMENT</th>\n      <th>DAYS_ENTRY_PAYMENT</th>\n      <th>AMT_INSTALMENT</th>\n      <th>AMT_PAYMENT</th>\n    </tr>\n  </thead>\n  <tbody>\n    <tr>\n      <th>0</th>\n      <td>100001</td>\n      <td>8.0</td>\n      <td>19</td>\n      <td>-15314.0</td>\n      <td>-15365.0</td>\n      <td>41195.925</td>\n      <td>41195.925</td>\n    </tr>\n    <tr>\n      <th>1</th>\n      <td>100002</td>\n      <td>20.0</td>\n      <td>190</td>\n      <td>-5605.0</td>\n      <td>-5993.0</td>\n      <td>219625.695</td>\n      <td>219625.695</td>\n    </tr>\n    <tr>\n      <th>2</th>\n      <td>100003</td>\n      <td>26.0</td>\n      <td>127</td>\n      <td>-34454.0</td>\n      <td>-34633.0</td>\n      <td>1618864.650</td>\n      <td>1618864.650</td>\n    </tr>\n    <tr>\n      <th>3</th>\n      <td>100004</td>\n      <td>4.0</td>\n      <td>6</td>\n      <td>-2262.0</td>\n      <td>-2285.0</td>\n      <td>21288.465</td>\n      <td>21288.465</td>\n    </tr>\n    <tr>\n      <th>4</th>\n      <td>100005</td>\n      <td>10.0</td>\n      <td>45</td>\n      <td>-5274.0</td>\n      <td>-5486.0</td>\n      <td>56161.845</td>\n      <td>56161.845</td>\n    </tr>\n  </tbody>\n</table>\n</div>"
          },
          "metadata": {}
        }
      ]
    },
    {
      "metadata": {
        "trusted": true,
        "_uuid": "27068a8b78856d1bf63ae0114ab8410ce8b8c979"
      },
      "cell_type": "code",
      "source": "credit_card_balance_loc = credit_card_balance.drop(['SK_ID_PREV'],axis = 1)\ncredit_card_balance_dumm = credit_card_balance_loc.groupby(['SK_ID_CURR']).sum()\ncredit_card_balance_dumm = credit_card_balance_dumm.reset_index('SK_ID_CURR')\ncredit_card_balance_dumm.head()",
      "execution_count": null,
      "outputs": []
    },
    {
      "metadata": {
        "_uuid": "9d71c5eecafcf16395c1dc55368bd54b2ae1cbc9"
      },
      "cell_type": "markdown",
      "source": "Merge both train and test files for final prediction"
    },
    {
      "metadata": {
        "trusted": true,
        "_uuid": "9a9a8cfe5576600f0b3dcd9019284b2180fc64a3"
      },
      "cell_type": "code",
      "source": "merge1 = pd.merge(application_train, bureau_merge_dumm,  how='left')\nmerge2 = pd.merge(merge1, POS_CASH_balance_dumm,   how='left')\nmerge3 = pd.merge(merge2, previous_application_dumm,  how='left')\nmerge4 = pd.merge(merge3, installments_payments_dumm,  how='left')\nmerge5 = pd.merge(merge4, credit_card_balance_dumm,  how='left')",
      "execution_count": null,
      "outputs": []
    },
    {
      "metadata": {
        "trusted": true,
        "_uuid": "9769e759ef40e70c1d3ea92fff4c83e1d2d9895c"
      },
      "cell_type": "code",
      "source": "merge1_test = pd.merge(application_test, bureau_merge_dumm, how='left')\nmerge2_test = pd.merge(merge1_test, POS_CASH_balance_dumm,  how='left')\nmerge3_test = pd.merge(merge2_test, previous_application_dumm,  how='left')\nmerge4_test = pd.merge(merge3_test, installments_payments_dumm,  how='left')\nmerge5_test = pd.merge(merge4_test, credit_card_balance_dumm, how='left')",
      "execution_count": null,
      "outputs": []
    },
    {
      "metadata": {
        "_uuid": "1c4d38ad95fa1d33613aabf0466a25e0cb657c4d"
      },
      "cell_type": "markdown",
      "source": "This function cleans and does some basic operation to get the model ready for scoring, feel free to improve on it."
    },
    {
      "metadata": {
        "trusted": true,
        "_uuid": "2cadb7183296c0955da5e9c3c445531ab098b9a4"
      },
      "cell_type": "code",
      "source": "# Training function\ndef data_prep_train(data_df):\n    \n    #how to handle types\n    data_df = data_df.set_index('SK_ID_CURR')\n    data_df_num = data_df.select_dtypes(exclude=object)\n    data_df_obj = data_df.select_dtypes(include=object)\n\n    #how to handle nan in numeric type\n    data_df_num_columns = data_df_num.drop(['TARGET'], axis=1).columns\n    for column in data_df_num_columns:\n        data_df_num[column] = data_df_num[column].fillna(data_df_num[column].mean())\n        #data_df_num[column] = scale(data_df_num[column])\n    \n    #how to handle nan in object type\n    data_df_obj_columns = data_df_obj.columns\n    for column in data_df_obj_columns:\n        data_df_obj[column] = data_df_obj[column].fillna(\"UNKNOWN\")\n        data_df_obj[column] = data_df_obj[column].astype('category')\n        data_df_obj[column] = data_df_obj[column].cat.codes\n    # stage for sampling\n    data_stage = pd.DataFrame(pd.concat([data_df_num, data_df_obj],axis=1))\n    \n    # sample count positive class \n    minority_count = data_stage.TARGET.value_counts().min()\n    majority_count = data_stage.TARGET.value_counts().max()\n    \n    # sampled data (down sampling)\n    data_stage0 = data_stage[data_stage['TARGET']==0].sample(majority_count, replace = False)\n    data_stage1 = data_stage[data_stage['TARGET']==1].sample(minority_count, replace = False)\n    \n    return pd.DataFrame(pd.concat([data_stage0, data_stage1],axis=0))\n\n\n# Testing function\ndef data_prep_test(data_df):\n    \n    #how to handle types\n    data_df = data_df.set_index('SK_ID_CURR')\n    data_df_num = data_df.select_dtypes(exclude=object)\n    data_df_obj = data_df.select_dtypes(include=object)\n\n    #how to handle nan in numeric type\n    data_df_num_columns = data_df_num.columns\n    for column in data_df_num_columns:\n        data_df_num[column] = data_df_num[column].fillna(data_df_num[column].mean())\n        #data_df_num[column] = scale(data_df_num[column])\n    \n    #how to handle nan in object type\n    data_df_obj_columns = data_df_obj.columns\n    \n    for column in data_df_obj_columns:\n        data_df_obj[column] = data_df_obj[column].fillna(\"UNKNOWN\")#.astype('object')\n        data_df_obj[column] = data_df_obj[column].astype('category')\n        data_df_obj[column] = data_df_obj[column].cat.codes\n    # stage for sampling\n    data_stage = pd.DataFrame(pd.concat([data_df_num, data_df_obj],axis=1))\n    \n    \n    return pd.DataFrame(pd.concat([data_df_num, data_df_obj],axis=1))\n\n",
      "execution_count": null,
      "outputs": []
    },
    {
      "metadata": {
        "trusted": true,
        "_uuid": "195fa3769d00351664af3cfa1b9ca1fe8d94c676"
      },
      "cell_type": "code",
      "source": "#Train\ndata_train = data_prep_train(merge5)\n\n#Test\n#data_pred = pd.read_csv('application_test.csv', sep=',')\ndata_pred = data_prep_test(merge5_test)\n",
      "execution_count": null,
      "outputs": []
    },
    {
      "metadata": {
        "trusted": true,
        "_uuid": "0763cb2cc9499f9b33955d67b777a80143d42f03"
      },
      "cell_type": "code",
      "source": "data_train.head()",
      "execution_count": null,
      "outputs": []
    },
    {
      "metadata": {
        "trusted": true,
        "_uuid": "6c452cd8b686ae2de32c7c2a4c67bb920b0ef2c7"
      },
      "cell_type": "code",
      "source": "data_pred.head()",
      "execution_count": null,
      "outputs": []
    },
    {
      "metadata": {
        "_uuid": "67bdd03727bebfa74460dab03c1f3089f5d92550"
      },
      "cell_type": "markdown",
      "source": "Drop all columns which has NA's, these will be categorical NA's as we have handled numerical NAs already"
    },
    {
      "metadata": {
        "trusted": true,
        "_uuid": "a02aaa4ea9f382b2c8a3bda874288a1a1073d267"
      },
      "cell_type": "code",
      "source": "missing_values = [\"CNT_INSTALMENT\",\"CNT_INSTALMENT_FUTURE\",\"SK_DPD\",\"SK_DPD_DEF\",\"AMT_APPLICATION\",\n                  \"AMT_DOWN_PAYMENT\",\"NFLAG_LAST_APPL_IN_DAY\",\"RATE_DOWN_PAYMENT\",\"RATE_INTEREST_PRIMARY\",\n                  \"RATE_INTEREST_PRIVILEGED\",\"DAYS_DECISION\",\"SELLERPLACE_AREA\",\"CNT_PAYMENT\",\"DAYS_FIRST_DRAWING\",\n                  \"DAYS_FIRST_DUE\",\"DAYS_LAST_DUE_1ST_VERSION\",\"DAYS_LAST_DUE\",\"DAYS_TERMINATION\",\n                  \"NFLAG_INSURED_ON_APPROVAL\",\"AMT_INST_MIN_REGULARITY\",\"AMT_PAYMENT_CURRENT\",\n                  \"AMT_PAYMENT_TOTAL_CURRENT\",\"AMT_RECEIVABLE_PRINCIPAL\",\"AMT_RECIVABLE\",\"AMT_TOTAL_RECEIVABLE\",\n                  \"CNT_DRAWINGS_ATM_CURRENT\",\"CNT_DRAWINGS_CURRENT\",\"CNT_DRAWINGS_OTHER_CURRENT\",\n                  \"CNT_DRAWINGS_POS_CURRENT\",\"CNT_INSTALMENT_MATURE_CUM\",\"AMT_BALANCE\",\"AMT_CREDIT_LIMIT_ACTUAL\",\n                  \"AMT_DRAWINGS_ATM_CURRENT\",\"AMT_DRAWINGS_CURRENT\",\"AMT_DRAWINGS_OTHER_CURRENT\",\"AMT_DRAWINGS_POS_CURRENT\" ]\n",
      "execution_count": null,
      "outputs": []
    },
    {
      "metadata": {
        "trusted": true,
        "_uuid": "d7de69291494cbc4ff78c4c5d0944953557e3b69"
      },
      "cell_type": "code",
      "source": "data_train = data_train.drop(missing_values, axis=1)",
      "execution_count": null,
      "outputs": []
    },
    {
      "metadata": {
        "trusted": true,
        "_uuid": "78a8045bc8b3abc92517385b85f98e3784018487"
      },
      "cell_type": "code",
      "source": "data_pred = data_pred.drop(missing_values, axis = 1 )",
      "execution_count": null,
      "outputs": []
    },
    {
      "metadata": {
        "_uuid": "ecf36fdebf805bc1b52b14ba48519825f4d00746"
      },
      "cell_type": "markdown",
      "source": "No missing values now :)"
    },
    {
      "metadata": {
        "trusted": true,
        "_uuid": "8161229485f6fcd0f098599af3627b9e68a9d38f"
      },
      "cell_type": "code",
      "source": "(data_train.isna().sum()>1).sum(), (data_pred.isna().sum()>1).sum()",
      "execution_count": null,
      "outputs": []
    },
    {
      "metadata": {
        "trusted": true,
        "_uuid": "5d425c33b82a848aa08b3a84b68bc2ba9b2c1bdb"
      },
      "cell_type": "code",
      "source": "data_train.shape, data_pred.shape",
      "execution_count": null,
      "outputs": []
    },
    {
      "metadata": {
        "trusted": true,
        "_uuid": "f523064c5edf60620586688d4b25936179532538"
      },
      "cell_type": "code",
      "source": "# train test split doesnt actually split\n# Will be training on 95% of the data and not 100%, because then i will have to rewrite part of\n# this code and i am lazy.\nX_train, X_test, y_train, y_test = train_test_split(data_train.drop(['TARGET'],axis = 1),\n                                                    data_train['TARGET'], test_size = 0.05,\n                                                    random_state = seed)\nX_test_final = data_pred\n\n\n# Using smote to increase the number of under-represented class\nsm = SMOTE(random_state = seed, ratio = 'minority')\n\n",
      "execution_count": null,
      "outputs": []
    },
    {
      "metadata": {
        "trusted": true,
        "_uuid": "088ed1bcd74f895c23e8711f17f1e34be8b05c08"
      },
      "cell_type": "code",
      "source": "X_train_sm, y_train_sm = sm.fit_sample(X_train, y_train)\nX_train_sm.shape, y_train_sm.shape",
      "execution_count": null,
      "outputs": []
    },
    {
      "metadata": {
        "trusted": true,
        "_uuid": "1299cc8b700d33764b6de40f0a2ed00fba2c0d26"
      },
      "cell_type": "code",
      "source": "import lightgbm as lgb\ndef run_lgb(train_X, train_y, val_X, val_y, test_X):\n    params = {\n        \"objective\" : \"binary\",\n        \"metric\" : \"auc\",\n        \"num_leaves\" : 40,\n        \"learning_rate\" : 0.005,\n        #\"bagging_fraction\" : 0.6,\n        \"feature_fraction\" : 0.6,\n        \"bagging_frequency\" : 6,\n        \"bagging_seed\" : 42,\n        \"verbosity\" : -1,\n        \"seed\": 42\n    }\n    \n    lgtrain = lgb.Dataset(train_X, label=train_y)\n    lgval = lgb.Dataset(val_X, label=val_y)\n    evals_result = {}\n    model = lgb.train(params, lgtrain, 5000, \n                      valid_sets=[lgtrain, lgval], \n                      early_stopping_rounds=100, \n                      verbose_eval=150, \n                      evals_result=evals_result)\n    \n    pred_test_y = (model.predict(test_X, num_iteration=model.best_iteration))\n    return pred_test_y, model, evals_result",
      "execution_count": null,
      "outputs": []
    },
    {
      "metadata": {
        "_uuid": "40778ce44e206f250a2a540af4eb88f05e938d9e"
      },
      "cell_type": "markdown",
      "source": "Checking if SMOTE is better than no SMOTE, if you dont know what SMOTE is google it, sometimes for some data sets it is awesome. But then again there is no free meal, you got to try everything. Now that i think of it, i could have also tried downsampling, but personally I dont like throwing away data. But for some data sets down sampling could be the key. But as i have said before, this is the lazy approach ;)"
    },
    {
      "metadata": {
        "_uuid": "cb9c5845c3a1f58b5836bfee0b99a62662f49078"
      },
      "cell_type": "markdown",
      "source": "> Go ahead and check why i didnt use SMOTE in the final model scoring :)"
    },
    {
      "metadata": {
        "trusted": true,
        "_uuid": "f15688d9112a10837b8eb27a18a5e7396daa5d9c"
      },
      "cell_type": "code",
      "source": "# Training LGB with SMOTE\n#pred_test_SMOTE, model, evals_result = run_lgb(X_train_sm, y_train_sm, X_test, y_test, data_pred)\n#print(\"LightGBM with SMOTE Training Completed ...\")",
      "execution_count": null,
      "outputs": []
    },
    {
      "metadata": {
        "trusted": true,
        "_uuid": "253960216d508f14a2c5f1806f21c079fb83c56f"
      },
      "cell_type": "code",
      "source": "# Training LGB without sampling\npred_test, model, evals_result = run_lgb(X_train, y_train ,X_test, y_test, data_pred)\nprint(\"LightGBM Training Completed...\")",
      "execution_count": null,
      "outputs": []
    },
    {
      "metadata": {
        "trusted": true,
        "_uuid": "4aa867cdc46f7858c65579f53cc6ebd1360b14c6"
      },
      "cell_type": "code",
      "source": "sub = pd.read_csv('../input/sample_submission.csv')\n\n#sub_lgb_SMOTE = pd.DataFrame()\n#sub_lgb_SMOTE[\"TARGET\"] = pred_test_SMOTE\n\nsub_lgb = pd.DataFrame()\nsub_lgb[\"TARGET\"] = pred_test\n\n# The SMOTE version is overfitting. \n# This is evidenced by the difference in train test you can check it out\n#sub[\"TARGET\"] = (sub_lgb_SMOTE[\"TARGET\"])* 0.0 + sub_lgb[\"TARGET\"] * 1.0)\n\nsub[\"TARGET\"] = sub_lgb[\"TARGET\"]",
      "execution_count": null,
      "outputs": []
    },
    {
      "metadata": {
        "trusted": true,
        "_uuid": "251c83ea037f4fb266b148d829bffcfc0128fb91"
      },
      "cell_type": "code",
      "source": "print(sub.head())\nsub.to_csv('submission_lazy.csv', index=False)",
      "execution_count": null,
      "outputs": []
    },
    {
      "metadata": {
        "trusted": true,
        "_uuid": "248963fdd55bdd339976dfef5c38a2668db56e45"
      },
      "cell_type": "markdown",
      "source": "This model scores about 0.74429 without almost any feature engineering in the public leaderboard"
    },
    {
      "metadata": {
        "trusted": true,
        "_uuid": "a0712d086fea7c420e1f316aa09239033cf7e534"
      },
      "cell_type": "code",
      "source": "0.74429",
      "execution_count": null,
      "outputs": []
    }
  ],
  "metadata": {
    "kernelspec": {
      "display_name": "Python 3",
      "language": "python",
      "name": "python3"
    },
    "language_info": {
      "name": "python",
      "version": "3.6.6",
      "mimetype": "text/x-python",
      "codemirror_mode": {
        "name": "ipython",
        "version": 3
      },
      "pygments_lexer": "ipython3",
      "nbconvert_exporter": "python",
      "file_extension": ".py"
    }
  },
  "nbformat": 4,
  "nbformat_minor": 1
}